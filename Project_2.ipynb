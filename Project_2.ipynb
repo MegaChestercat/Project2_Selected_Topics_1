{
 "cells": [
  {
   "cell_type": "markdown",
   "metadata": {},
   "source": [
    "# **Project 2 - Who is talking?**"
   ]
  },
  {
   "cell_type": "markdown",
   "metadata": {},
   "source": [
    "## **Objective**\n",
    "The project has as main idea the voice recognition that could come from any person that could be talking in a specific situation and/or environment. In order to achieve that it will be perform a Python program that will make use of Neural Network models pretrained by other users, in combination with audios provided by the team members of this project that will be used to make adjustments to th model by using the fine tunning technique."
   ]
  },
  {
   "cell_type": "markdown",
   "metadata": {},
   "source": [
    "## **Requirements**"
   ]
  },
  {
   "cell_type": "markdown",
   "metadata": {},
   "source": [
    "- Python 3.11.4\n",
    "- Tensorflow 2.14.0 "
   ]
  },
  {
   "cell_type": "markdown",
   "metadata": {},
   "source": [
    "🚨 Have activated **Hardware Acceleration** with GPU"
   ]
  },
  {
   "cell_type": "code",
   "execution_count": null,
   "metadata": {},
   "outputs": [],
   "source": [
    "!nvidia-smi -L"
   ]
  },
  {
   "cell_type": "markdown",
   "metadata": {},
   "source": [
    "## **Step 1. Install Libraries**"
   ]
  },
  {
   "cell_type": "code",
   "execution_count": null,
   "metadata": {},
   "outputs": [],
   "source": [
    "!pip install tensorflow"
   ]
  },
  {
   "cell_type": "markdown",
   "metadata": {},
   "source": [
    "## **Step 2. Import libraries**"
   ]
  },
  {
   "cell_type": "code",
   "execution_count": null,
   "metadata": {},
   "outputs": [],
   "source": [
    "import tensorflow as tf\n",
    "from tensorflow.python import keras\n",
    "from tensorflow.python.keras import layers, Sequential"
   ]
  },
  {
   "cell_type": "markdown",
   "metadata": {},
   "source": [
    "## **Step 3. Creating dataset**"
   ]
  },
  {
   "cell_type": "code",
   "execution_count": null,
   "metadata": {},
   "outputs": [],
   "source": [
    "#Codigo para tomar el archivo de audio completo y dividirlo en segmentos\n",
    "\n",
    "!pip install pydub\n",
    "\n",
    "from pydub import AudioSegment\n",
    "from pydub.playback import play\n",
    "from google.colab import drive\n",
    "\n",
    "# Montar Google Drive\n",
    "drive.mount('/content/drive')\n",
    "\n",
    "# Ruta al archivo de audio en tu Google Drive\n",
    "audio_file_path = '/content/drive/My Drive/Audios_ML_Project_2/Recording 2min.wav'\n",
    "\n",
    "# Cargar el archivo de audio\n",
    "audio = AudioSegment.from_wav(audio_file_path)\n",
    "\n",
    "# Ruta de la carpeta en Google Drive donde se guardarán los segmentos\n",
    "output_folder_path = '/content/drive/My Drive/Audios_ML_Project_2/Segmentos/'\n",
    "\n",
    "# Configurar la duración de cada segmento en milisegundos (1000 ms = 1 segundo)\n",
    "segment_duration = 10000  # 1 segundo\n",
    "\n",
    "# Dividir el audio en segmentos y guardar cada segmento en la carpeta de Google Drive\n",
    "for i, start_time in enumerate(range(0, len(audio), segment_duration)):\n",
    "    segment = audio[start_time:start_time + segment_duration]\n",
    "    segment.export(f\"{output_folder_path}segmento_{i+1}.wav\", format=\"wav\")\n",
    "\n",
    "    # Opcional: Reproduce cada segmento\n",
    "    play(segment)\n",
    "\n",
    "# Opcional: Guardar todos los segmentos en una lista si se desea trabajar con ellos\n",
    "segmentos = [audio[start_time:start_time + segment_duration] for start_time in range(0, len(audio), segment_duration)]\n"
   ]
  }
 ],
 "metadata": {
  "kernelspec": {
   "display_name": "AIEnv",
   "language": "python",
   "name": "python3"
  },
  "language_info": {
   "name": "python",
   "version": "3.11.4"
  }
 },
 "nbformat": 4,
 "nbformat_minor": 2
}
